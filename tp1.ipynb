{
 "cells": [
  {
   "cell_type": "markdown",
   "metadata": {},
   "source": [
    "# Criterios de evaluación.\n",
    "\n",
    "* Se deben utilizar nombres de variables descriptivos y claros (Utilizar la nomeclatura correspondiente para los nombres de variables).\n",
    "* Comentarios claros y concisos que expliquen el propósito de cada sección del código.\n",
    "* Entrega en tiempo y forma.\n",
    "* Todo el código desarrollado debe ser subido a un repositorio en GitHub (el nombre del repositorio de seguir la siguiente estructura: tp1_tlp3_nombre_apellido).\n",
    "\n",
    "\n",
    "**Aclaración: Para resolver las actividades se debe incertar casillas de codigo entre cada actividad del cuaderno de Jupyter**"
   ]
  },
  {
   "cell_type": "markdown",
   "metadata": {},
   "source": [
    "### 1. **Hola Mundo y Variables**\n",
    "\n",
    "   - **Actividad 1.1**: Deben escribir un programa que imprima \"¡Hola, Mundo!\" en la consola.\n",
    "   - **Actividad 1.2**: Deben crear una variable llamada `nombre` y hacer que el programa imprima un saludo personalizado: `Hola, <nombre>!`"
   ]
  },
  {
   "cell_type": "code",
   "execution_count": 2,
   "metadata": {},
   "outputs": [
    {
     "name": "stdout",
     "output_type": "stream",
     "text": [
      "¡Hola, Mundo!\n",
      "Hola, Mauricio!\n"
     ]
    }
   ],
   "source": [
    "# Actividad 1.1\n",
    "print(\"¡Hola, Mundo!\")\n",
    "\n",
    "# Actividad 1.2\n",
    "nombre = input(\"ingrese su nombre: \")\n",
    "print(f\"Hola, {nombre}!\")"
   ]
  },
  {
   "cell_type": "markdown",
   "metadata": {},
   "source": [
    "### 2. **Operaciones Matemáticas Básicas**\n",
    "\n",
    "   - **Actividad 1.1**: Crear un programa que pida al usuario dos números y realice las cuatro operaciones matemáticas básicas (suma, resta, multiplicación y división), imprimiendo los resultados.\n",
    "   - **Actividad 1.2**: Hacer que el programa calcule el promedio de los dos números."
   ]
  },
  {
   "cell_type": "code",
   "execution_count": null,
   "metadata": {},
   "outputs": [
    {
     "name": "stdout",
     "output_type": "stream",
     "text": [
      "Los resultado de la suma de  15 + 3 es 18  y el promedio es 9.0\n",
      "Los resultado de la resta de  15 - 3 es 12  y el promedio es  9.0\n",
      "Los resultado de la multiplicacion  15 * 3 es 45 y el promedio es 9.0\n",
      "Los resultado de la division   15 / 3 es 5.0 y el promedio es 9.0\n"
     ]
    }
   ],
   "source": [
    "# Actividad 1.1\n",
    "num1 = int(input(\"Ingrese el primer numero\"))\n",
    "num2 = int(input(\"Ingrese el segundo numero \"))\n",
    "\n",
    "suma = num1 + num2\n",
    "resta = num1 - num2\n",
    "multiplicar = num1 * num2\n",
    "division = num1 / num2\n",
    "promedio = suma / 2\n",
    "\n",
    "print(f\"el resultado de la suma de \", num1, \"+\", num2, \"es\", suma , \" y el promedio es\", promedio)\n",
    "print(f\"el resultado de la resta de \", num1, \"-\", num2, \"es\", resta ,\" y el promedio es \", promedio)\n",
    "print(f\"el resultado de la multiplicacion \", num1, \"*\", num2, \"es\", multiplicar,\"y el promedio es\", promedio)\n",
    "print(f\"el resultado de la division  \", num1, \"/\", num2, \"es\", division ,\"y el promedio es\", promedio)\n"
   ]
  },
  {
   "cell_type": "markdown",
   "metadata": {},
   "source": [
    "### 3. **Condicionales (if-else)**\n",
    "\n",
    "   - **Actividad 1.1**: Escribir un programa que pida al usuario su edad y le diga si es mayor de edad (18 años o más).\n",
    "   - **Actividad 1.2**: Agregar un mensaje diferente para diferentes rangos de edad, como por ejemplo, si es un niño, adolescente o adulto."
   ]
  },
  {
   "cell_type": "code",
   "execution_count": null,
   "metadata": {},
   "outputs": [
    {
     "name": "stdout",
     "output_type": "stream",
     "text": [
      "Es un adolecente\n"
     ]
    }
   ],
   "source": [
    "edad = int(input(\"Ingrese su edad: \"))\n",
    "\n",
    "if edad >= 18 :\n",
    "    print(\"Es un Adulto\")\n",
    "elif edad > 12 :\n",
    "    print(\"Es un adolecente\")\n",
    "else:\n",
    "    print(\"es un niño\")"
   ]
  },
  {
   "cell_type": "markdown",
   "metadata": {},
   "source": [
    "### 4. **Ciclos (while, for)**\n",
    "\n",
    "   - **Actividad 1.1**: Escribir un programa que imprima los números del 1 al 10 usando un bucle `for`.\n",
    "   - **Actividad 1.2**: Usar un bucle `while` para imprimir los números del 1 al 10, e imprimir solo aquellos números que sean divisibles por 2."
   ]
  },
  {
   "cell_type": "code",
   "execution_count": 28,
   "metadata": {},
   "outputs": [
    {
     "name": "stdout",
     "output_type": "stream",
     "text": [
      "1\n",
      "2\n",
      "3\n",
      "4\n",
      "5\n",
      "6\n",
      "7\n",
      "8\n",
      "9\n",
      "10\n",
      "2\n",
      "4\n",
      "6\n",
      "8\n",
      "10\n"
     ]
    }
   ],
   "source": [
    "# Actividad 1.1\n",
    "for i in range(10):\n",
    "    i = i + 1\n",
    "    print(i)\n",
    "    \n",
    "# Actividad 1.2\n",
    "\n",
    "contador = 1\n",
    "\n",
    "while contador <= 10 :\n",
    "    if contador % 2 == 0:\n",
    "        print(contador)\n",
    "    contador += 1\n",
    "    \n"
   ]
  },
  {
   "cell_type": "markdown",
   "metadata": {},
   "source": [
    "### 5. **Listas y Bucles**\n",
    "\n",
    "   - **Actividad 1.1**: Crear una lista con 5 números y escribir un programa que imprima cada número de la lista usando un bucle `for`.\n",
    "   - **Actividad 1.2**: Usar un bucle para calcular la suma de los números de la lista."
   ]
  },
  {
   "cell_type": "code",
   "execution_count": 33,
   "metadata": {},
   "outputs": [
    {
     "name": "stdout",
     "output_type": "stream",
     "text": [
      "La lista es: [10, 25, 8, 43, 15]\n",
      "La suma de todos los números es: 101\n"
     ]
    }
   ],
   "source": [
    "numeros = [10, 25, 8, 43, 15]\n",
    "suma = 0\n",
    "\n",
    "for numero in numeros:\n",
    "    suma += numero\n",
    "    \n",
    "print(\"La lista es:\", numeros)\n",
    "print(\"La suma de todos los números es:\", suma)"
   ]
  },
  {
   "cell_type": "markdown",
   "metadata": {},
   "source": [
    "### 6. **Funciones**\n",
    "\n",
    "   - **Actividad 1.1**: Escribir una función llamada `saludo` que reciba un nombre como parámetro y devuelva un saludo personalizado.\n",
    "   - **Actividad 1.2**: Crear una función que reciba dos números y devuelva su suma, resta, multiplicación y división."
   ]
  },
  {
   "cell_type": "code",
   "execution_count": 40,
   "metadata": {},
   "outputs": [
    {
     "name": "stdout",
     "output_type": "stream",
     "text": [
      "Hola mauricio\n",
      "la suma de 100 + 10 es  110\n",
      "la resta de 100 - 10 es  90\n",
      "la multiplicacion de 100 * 10 es  1000\n",
      "la division de 100 / 10 es  10.0\n"
     ]
    }
   ],
   "source": [
    "# Actitividad 1.1\n",
    "nombre = str(input(\"ingrese su nombre\"))\n",
    "def saludo(nombre):\n",
    "    print(f\"Hola\", nombre)\n",
    "saludo(nombre)\n",
    "\n",
    "# Actividad 1.2\n",
    "num1 = int(input(\"Ingrese el primer numero: \"))\n",
    "num2 = int(input(\"Ingrese el segundo numero: \"))\n",
    "\n",
    "def operacion_matematica(num1,num2):\n",
    "    suma = num1 + num2\n",
    "    resta = num1 - num2\n",
    "    multi = num1 * num2\n",
    "    divi = num1 / num2\n",
    "    print(f\"la suma de {num1} + {num2} es \", suma)\n",
    "    print(f\"la resta de {num1} - {num2} es \", resta)\n",
    "    print(f\"la multiplicacion de {num1} * {num2} es \", multi)\n",
    "    print(f\"la division de {num1} / {num2} es \", divi)\n",
    "operacion_matematica(num1,num2)\n",
    "    "
   ]
  },
  {
   "cell_type": "markdown",
   "metadata": {},
   "source": [
    "### 7. **Manejo de cadenas de texto**\n",
    "\n",
    "   - **Actividad 1.1**: Escribir un programa que pida al usuario su nombre y lo imprima en mayúsculas y en minúsculas.\n",
    "   - **Actividad 1.2**: Hacer que el programa imprima la longitud del nombre ingresado (no tener en cuenta los espacios en blanco)."
   ]
  },
  {
   "cell_type": "code",
   "execution_count": null,
   "metadata": {},
   "outputs": [
    {
     "name": "stdout",
     "output_type": "stream",
     "text": [
      "Tu nombre en mayúsculas es: ANTO LES\n",
      "Tu nombre en minúsculas es: anto les\n",
      "La longitud de tu nombre sin contar espacios es: 7\n"
     ]
    }
   ],
   "source": [
    "nombre = str(input(\"Por favor, introduce tu nombre: \"))\n",
    "\n",
    "nombre_sin_espacios = nombre.replace(\" \", \"\")\n",
    "\n",
    "print(\"Tu nombre en mayúsculas es:\", nombre.upper())\n",
    "print(\"Tu nombre en minúsculas es:\", nombre.lower())\n",
    "print(\"La longitud de tu nombre sin contar espacios es:\", len(nombre_sin_espacios))"
   ]
  },
  {
   "cell_type": "markdown",
   "metadata": {},
   "source": [
    "### 8. **Diccionarios**\n",
    "\n",
    "   - **Actividad1.1**: Crear un diccionario que contenga los nombres de tres personas como claves y sus edades como valores. El programa debe imprimir la edad de cada persona.\n",
    "   - **Actividad1.2**: Escribir un programa que pregunte al usuario un nombre, luego su edad y los agregue al diccionario."
   ]
  },
  {
   "cell_type": "code",
   "execution_count": null,
   "metadata": {},
   "outputs": [
    {
     "name": "stdout",
     "output_type": "stream",
     "text": [
      "Las dedades de las persona son: \n",
      "Mauri tiene 19 años\n",
      "Pablo tiene 17 años\n",
      "Anto tiene 17 años\n",
      "felipe tiene 20 años\n"
     ]
    }
   ],
   "source": [
    "# Actividad 1.1\n",
    "dict = { \"Mauri\": 19, \"Pablo\": 17, \"Anto\": 17 }\n",
    "nombre = str(input(\"Ingrese su nombre: \"))\n",
    "edad = int(input(\"Ingrese su edad: \"))\n",
    "dict[nombre] = edad\n",
    "print(\"Las dedades de las persona son: \")\n",
    "for nombre , edad in dict.items():\n",
    "    print(f\"{nombre} tiene {edad} años\")\n",
    "\n"
   ]
  },
  {
   "cell_type": "markdown",
   "metadata": {},
   "source": [
    "### 9. **Números aleatorios**\n",
    "\n",
    "   - **Actividad 1.1**: Escribir un programa que genere 5 números aleatorios entre 1 y 100, lo imprima por consola y diga si es mayor o menor a 50.\n",
    "   - **Actividad 1.2**: Sumar los 5 números generados aleatoriamente y en caso de que el resultado sea mayor a 100, mostrar el valor antes de ser mayor a 100 y cuantos números se sumaron para llegar a dicho valor."
   ]
  },
  {
   "cell_type": "code",
   "execution_count": 59,
   "metadata": {},
   "outputs": [
    {
     "name": "stdout",
     "output_type": "stream",
     "text": [
      "Números generados:\n",
      "Número 1: 53\n",
      "El numero es mayor a 50\n",
      "Número 2: 27\n",
      "el numeor es menor a 50\n",
      "Número 3: 48\n",
      "el numeor es menor a 50\n",
      "Al sumar el número 3, la suma total es 128, superando 100\n",
      "La última suma menor a 100 fue 80\n",
      "Se sumaron 3 números para superar 100\n"
     ]
    }
   ],
   "source": [
    "import random\n",
    "\n",
    "suma = 0\n",
    "numeros_sumados = 0\n",
    "ultima_suma_menor_100 = 0\n",
    "\n",
    "print(\"Números generados:\")\n",
    "for i in range(5):\n",
    "    numero = random.randint(1, 100)\n",
    "    print(f\"Número {i+1}: {numero}\")\n",
    "    \n",
    "    if numero > 50 :\n",
    "        print(\"El numero es mayor a 50\")\n",
    "    elif numero == 50 :\n",
    "        print(\"el numero es igual a 50\")\n",
    "    else:\n",
    "        print(\"el numeor es menor a 50\")\n",
    "        \n",
    "    \n",
    "    if suma <= 100:\n",
    "        ultima_suma_menor_100 = suma\n",
    "    \n",
    "    suma += numero\n",
    "    numeros_sumados += 1\n",
    "    \n",
    "\n",
    "    if suma > 100 and numeros_sumados == 1:\n",
    "        print(f\"El primer número ya es mayor a 100\")\n",
    "        break\n",
    "    elif suma > 100:\n",
    "        print(f\"Al sumar el número {numeros_sumados}, la suma total es {suma}, superando 100\")\n",
    "        print(f\"La última suma menor a 100 fue {ultima_suma_menor_100}\")\n",
    "        print(f\"Se sumaron {numeros_sumados} números para superar 100\")\n",
    "        break\n",
    "\n",
    "if suma <= 100:\n",
    "    print(f\"La suma total es {suma}, que no supera 100\")\n",
    "    print(f\"Se sumaron todos los 5 números\")"
   ]
  },
  {
   "cell_type": "markdown",
   "metadata": {},
   "source": [
    "### 10. **Proyecto Final: Calculadora**\n",
    "\n",
    "   - **Actividad 1.1**: Los estudiantes deben crear una calculadora básica que permita realizar operaciones de suma, resta, multiplicación y división con entradas del usuario. El programa debe pedir al usuario que elija la operación y luego introducir 2 números para realizar el cálculo.\n",
    "   - **Actividad 1.2**: Implementar una opción para que el usuario pueda continuar haciendo cálculos o salir del programa."
   ]
  },
  {
   "cell_type": "code",
   "execution_count": null,
   "metadata": {},
   "outputs": [],
   "source": [
    "\n",
    "# todo: Resolución"
   ]
  },
  {
   "cell_type": "markdown",
   "metadata": {},
   "source": [
    "### EXTRA. **Juegos Simples (Adivina el número)**\n",
    "\n",
    "   - **Actividad 1.1**: Escribir un juego donde el programa elija un número aleatorio entre 1 y 100 y el usuario tenga que adivinarlo. El programa debe dar pistas si el número es mayor o menor.\n",
    "   - **Actividad 1.2**: Limitar el número de intentos y mostrar un mensaje de éxito o fracaso al final."
   ]
  }
 ],
 "metadata": {
  "kernelspec": {
   "display_name": "Python 3",
   "language": "python",
   "name": "python3"
  },
  "language_info": {
   "codemirror_mode": {
    "name": "ipython",
    "version": 3
   },
   "file_extension": ".py",
   "mimetype": "text/x-python",
   "name": "python",
   "nbconvert_exporter": "python",
   "pygments_lexer": "ipython3",
   "version": "3.13.2"
  }
 },
 "nbformat": 4,
 "nbformat_minor": 2
}
